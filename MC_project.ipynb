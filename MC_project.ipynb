{
 "cells": [
  {
   "cell_type": "code",
   "execution_count": 1,
   "metadata": {
    "executionInfo": {
     "elapsed": 1111,
     "status": "ok",
     "timestamp": 1619745330537,
     "user": {
      "displayName": "Adithya Kasali",
      "photoUrl": "",
      "userId": "03144812107510767698"
     },
     "user_tz": 240
    },
    "id": "AoAfeOXapCmR"
   },
   "outputs": [],
   "source": [
    "import pandas as pd\n",
    "from pandas_datareader import data as pdr\n",
    "import numpy as np\n",
    "import datetime as dt\n",
    "import seaborn as sn\n",
    "import matplotlib.pyplot as plt\n",
    "from scipy.stats import norm\n",
    "import seaborn as sns"
   ]
  },
  {
   "cell_type": "code",
   "execution_count": 2,
   "metadata": {
    "executionInfo": {
     "elapsed": 2672,
     "status": "ok",
     "timestamp": 1619745332109,
     "user": {
      "displayName": "Adithya Kasali",
      "photoUrl": "",
      "userId": "03144812107510767698"
     },
     "user_tz": 240
    },
    "id": "VQnAXtxfpEMs"
   },
   "outputs": [],
   "source": [
    "sx = pdr.get_data_yahoo(\"^STOXX50E\", start=\"2018-01-01\", end=\"2021-04-09\")\n",
    "sp = pdr.get_data_yahoo(\"^GSPC\", start=\"2018-01-01\", end=\"2021-04-09\")\n",
    "sm = pdr.get_data_yahoo(\"^SSMI\", start=\"2018-01-01\", end=\"2021-04-09\")"
   ]
  },
  {
   "cell_type": "code",
   "execution_count": 3,
   "metadata": {
    "executionInfo": {
     "elapsed": 487,
     "status": "ok",
     "timestamp": 1619741638559,
     "user": {
      "displayName": "Adithya Kasali",
      "photoUrl": "",
      "userId": "03144812107510767698"
     },
     "user_tz": 240
    },
    "id": "Cu_SwBllpESP"
   },
   "outputs": [],
   "source": [
    "# sx.head()"
   ]
  },
  {
   "cell_type": "code",
   "execution_count": 4,
   "metadata": {
    "executionInfo": {
     "elapsed": 211,
     "status": "ok",
     "timestamp": 1619741638562,
     "user": {
      "displayName": "Adithya Kasali",
      "photoUrl": "",
      "userId": "03144812107510767698"
     },
     "user_tz": 240
    },
    "id": "EAEbH1vDpWv1"
   },
   "outputs": [],
   "source": [
    "# sp.head()"
   ]
  },
  {
   "cell_type": "code",
   "execution_count": 5,
   "metadata": {
    "executionInfo": {
     "elapsed": 220,
     "status": "ok",
     "timestamp": 1619741638736,
     "user": {
      "displayName": "Adithya Kasali",
      "photoUrl": "",
      "userId": "03144812107510767698"
     },
     "user_tz": 240
    },
    "id": "KOp_Ca8NpWzz"
   },
   "outputs": [],
   "source": [
    "# sx.tail()"
   ]
  },
  {
   "cell_type": "code",
   "execution_count": 3,
   "metadata": {
    "executionInfo": {
     "elapsed": 484,
     "status": "ok",
     "timestamp": 1619745332621,
     "user": {
      "displayName": "Adithya Kasali",
      "photoUrl": "",
      "userId": "03144812107510767698"
     },
     "user_tz": 240
    },
    "id": "ai2nJ6uipEU1"
   },
   "outputs": [],
   "source": [
    "basket = pd.DataFrame()\n",
    "basket[\"sx_close\"] = sx['Close'].pct_change().dropna()\n",
    "basket[\"sp_close\"] = sp['Close'].pct_change().dropna()\n",
    "basket[\"sm_close\"] = sm['Close'].pct_change().dropna()"
   ]
  },
  {
   "cell_type": "code",
   "execution_count": 7,
   "metadata": {
    "executionInfo": {
     "elapsed": 226,
     "status": "ok",
     "timestamp": 1619741639359,
     "user": {
      "displayName": "Adithya Kasali",
      "photoUrl": "",
      "userId": "03144812107510767698"
     },
     "user_tz": 240
    },
    "id": "d2ijaaTtpEZf"
   },
   "outputs": [],
   "source": [
    "# interest rate, dividend yield rates, volatilities, correlations"
   ]
  },
  {
   "cell_type": "code",
   "execution_count": 5,
   "metadata": {
    "executionInfo": {
     "elapsed": 233,
     "status": "ok",
     "timestamp": 1619745358121,
     "user": {
      "displayName": "Adithya Kasali",
      "photoUrl": "",
      "userId": "03144812107510767698"
     },
     "user_tz": 240
    },
    "id": "13YdcV_MpEcV"
   },
   "outputs": [],
   "source": [
    "corr_mat = basket.corr() # correlation of returns"
   ]
  },
  {
   "cell_type": "code",
   "execution_count": 6,
   "metadata": {
    "colab": {
     "base_uri": "https://localhost:8080/"
    },
    "executionInfo": {
     "elapsed": 258,
     "status": "ok",
     "timestamp": 1619745383054,
     "user": {
      "displayName": "Adithya Kasali",
      "photoUrl": "",
      "userId": "03144812107510767698"
     },
     "user_tz": 240
    },
    "id": "ElJpA9bpmov9",
    "outputId": "90771c38-0066-4ecf-afaf-c23ea704ab77"
   },
   "outputs": [
    {
     "name": "stdout",
     "output_type": "stream",
     "text": [
      "returns EURO STOXX 50:  0.03868169961915422\n",
      "returns S&P 500:  0.13068683917499704\n",
      "returns Swiss Market index:  0.052844506759975235\n",
      "\n",
      "volatility EURO STOXX 50:  0.21242074732378197\n",
      "volatility S&P 500:  0.22923880677619787\n",
      "volatility Swiss Market index:  0.1699003001958509\n"
     ]
    }
   ],
   "source": [
    "# find yearly expected stock returns for each underlying asset\n",
    "\n",
    "mu_sx = np.mean(np.log(1 + sx['Close'].pct_change().dropna()))*252\n",
    "mu_sp = np.mean(np.log(1 + sp['Close'].pct_change().dropna()))*252\n",
    "mu_sm = np.mean(np.log(1 + sm['Close'].pct_change().dropna()))*252\n",
    "print(\"returns EURO STOXX 50: \", mu_sx)\n",
    "print(\"returns S&P 500: \", mu_sp)\n",
    "print(\"returns Swiss Market index: \", mu_sm)\n",
    "\n",
    "print()\n",
    "\n",
    "# find annualized stock volatility for each underlying asset\n",
    "\n",
    "sig_sx = np.std(np.log(1 + sx['Close'].pct_change().dropna()))*(252**.5)\n",
    "sig_sp = np.std(np.log(1 + sp['Close'].pct_change().dropna()))*(252**.5)\n",
    "sig_sm = np.std(np.log(1 + sm['Close'].pct_change().dropna()))*(252**.5)\n",
    "\n",
    "print(\"volatility EURO STOXX 50: \", sig_sx)\n",
    "print(\"volatility S&P 500: \", sig_sp)\n",
    "print(\"volatility Swiss Market index: \", sig_sm)"
   ]
  },
  {
   "cell_type": "code",
   "execution_count": 7,
   "metadata": {
    "colab": {
     "base_uri": "https://localhost:8080/"
    },
    "executionInfo": {
     "elapsed": 242,
     "status": "ok",
     "timestamp": 1619745384585,
     "user": {
      "displayName": "Adithya Kasali",
      "photoUrl": "",
      "userId": "03144812107510767698"
     },
     "user_tz": 240
    },
    "id": "VtW-fZMD5OXz",
    "outputId": "2019ba70-1ef5-4c2f-cb48-7e749a1e09b6"
   },
   "outputs": [
    {
     "name": "stdout",
     "output_type": "stream",
     "text": [
      "divident yield EURO STOXX 50:  0.0172\n",
      "divident yield S&P 500:  0.014499999999999999\n",
      "divident yield Swiss Market index:  0.0231\n"
     ]
    }
   ],
   "source": [
    "d_sx = 1.72/100 # https://www.marketbeat.com/stocks/NYSEARCA/FEZ/dividend/\n",
    "d_sp = 1.45/100 # https://ycharts.com/indicators/sp_500_dividend_yield\n",
    "d_sm = 2.31/100 # http://www.dividendsranking.com/Index/SMI.php\n",
    "\n",
    "print(\"divident yield EURO STOXX 50: \", d_sx)\n",
    "print(\"divident yield S&P 500: \", d_sp)\n",
    "print(\"divident yield Swiss Market index: \", d_sm)"
   ]
  },
  {
   "cell_type": "code",
   "execution_count": 22,
   "metadata": {
    "executionInfo": {
     "elapsed": 867,
     "status": "ok",
     "timestamp": 1619745524281,
     "user": {
      "displayName": "Adithya Kasali",
      "photoUrl": "",
      "userId": "03144812107510767698"
     },
     "user_tz": 240
    },
    "id": "u6Qw5IDfp7S7"
   },
   "outputs": [],
   "source": [
    "T = 2\n",
    "r = 0.01 # the risk free rate is about 1% based on google source\n",
    "n = 2*252 # 8 quarters\n",
    "dt = T/(2*252)\n",
    "N = 10**5\n",
    "C = np.linalg.cholesky(corr_mat)\n",
    "\n",
    "# dt_vec = np.array([(dt)*252, (dt)*63, (dt)*63, (dt)*63, (dt)*63])\n",
    "# n = 5\n",
    "\n",
    "X_sx=np.zeros((N,int(n)+1))\n",
    "X_sx[:,0]=sx['Close'][-1]\n",
    "\n",
    "X_sp=np.zeros((N,int(n)+1))\n",
    "X_sp[:,0]=sp['Close'][-1]\n",
    "\n",
    "X_sm=np.zeros((N,int(n)+1))\n",
    "X_sm[:,0]=sm['Close'][-1]"
   ]
  },
  {
   "cell_type": "code",
   "execution_count": 23,
   "metadata": {
    "executionInfo": {
     "elapsed": 359,
     "status": "ok",
     "timestamp": 1619745524754,
     "user": {
      "displayName": "Adithya Kasali",
      "photoUrl": "",
      "userId": "03144812107510767698"
     },
     "user_tz": 240
    },
    "id": "yuYgc93CV8eK"
   },
   "outputs": [],
   "source": [
    "coup = 6.25\n",
    "denom = 1000;\n",
    "init_fix = np.array([3857.07, 3917.45, 11130.28])\n",
    "tl = np.array([0.95, 0.85, 0.75, 0.65, 0.59])\n",
    "br = np.zeros((5,3))\n",
    "for i in range(0,5):\n",
    "  br[i,:] = init_fix*tl[i]\n",
    "obs = np.array([251])\n",
    "obs = np.append(obs, obs[-1]+63)\n",
    "obs = np.append(obs, obs[-1]+63)\n",
    "obs = np.append(obs, obs[-1]+63)\n",
    "obs = np.append(obs, obs[-1]+63)"
   ]
  },
  {
   "cell_type": "code",
   "execution_count": 24,
   "metadata": {
    "executionInfo": {
     "elapsed": 21618,
     "status": "ok",
     "timestamp": 1619745546814,
     "user": {
      "displayName": "Adithya Kasali",
      "photoUrl": "",
      "userId": "03144812107510767698"
     },
     "user_tz": 240
    },
    "id": "6wMLtqkyKtPo"
   },
   "outputs": [],
   "source": [
    "for i in range(1,n+1):\n",
    "  W = np.random.normal(0, 1, (N,3))\n",
    "  Z=np.matmul(W,C);    #W*C;\n",
    "\n",
    "  X_sx[:,i] = X_sx[:,i-1]*np.exp((mu_sx - d_sx - (sig_sx**2)/2)*dt + sig_sx*np.sqrt(dt)*Z[:,0])\n",
    "  X_sp[:,i] = X_sp[:,i-1]*np.exp((mu_sp - d_sp - (sig_sp**2)/2)*dt + sig_sp*np.sqrt(dt)*Z[:,1])\n",
    "  X_sm[:,i] = X_sm[:,i-1]*np.exp((mu_sm - d_sm - (sig_sm**2)/2)*dt + sig_sm*np.sqrt(dt)*Z[:,2])"
   ]
  },
  {
   "cell_type": "code",
   "execution_count": 25,
   "metadata": {
    "executionInfo": {
     "elapsed": 21173,
     "status": "ok",
     "timestamp": 1619745546816,
     "user": {
      "displayName": "Adithya Kasali",
      "photoUrl": "",
      "userId": "03144812107510767698"
     },
     "user_tz": 240
    },
    "id": "pLaIqrTLQmFW"
   },
   "outputs": [],
   "source": [
    "def calculatePayoff(X_sx, X_sp, X_sm, N, coup):\n",
    "  payoff = np.ones(N)*coup*(np.exp(-r*63/252)+np.exp(-r*2*63/252)+np.exp(-r*3*63/252))\n",
    "  for i in range(0, N):\n",
    "    for j in range(0,len(obs)):\n",
    "      if(X_sx[i,obs[j]] > br[j,0] and X_sp[i,obs[j]] > br[j,1] and X_sm[i,obs[j]] > br[j,2]):\n",
    "        if(j != 4):\n",
    "          payoff[i] += np.exp(-r*obs[j]/252)*(coup + denom);\n",
    "        else:\n",
    "          perf = [X_sx[i,obs[j]]/init_fix[0], X_sp[i,obs[j]]/init_fix[1], X_sm[i,obs[j]]/init_fix[2]]\n",
    "          worst = np.min(perf)\n",
    "          payoff[i] += np.exp(-r*obs[j]/252)*(coup + denom*worst)\n",
    "        break;\n",
    "      else:\n",
    "        if(j == 4):\n",
    "          payoff[i] += np.exp(-r*obs[j]/252)*(coup + denom)\n",
    "        else:\n",
    "          payoff[i] += np.exp(-r*obs[j]/252)*(coup)\n",
    "\n",
    "  return payoff\n",
    "        "
   ]
  },
  {
   "cell_type": "code",
   "execution_count": 26,
   "metadata": {
    "executionInfo": {
     "elapsed": 21872,
     "status": "ok",
     "timestamp": 1619745548524,
     "user": {
      "displayName": "Adithya Kasali",
      "photoUrl": "",
      "userId": "03144812107510767698"
     },
     "user_tz": 240
    },
    "id": "Gf0hr2CAwGOZ"
   },
   "outputs": [],
   "source": [
    "payoff = calculatePayoff(X_sx, X_sp, X_sm, N, 6.25)"
   ]
  },
  {
   "cell_type": "code",
   "execution_count": 27,
   "metadata": {
    "colab": {
     "base_uri": "https://localhost:8080/"
    },
    "executionInfo": {
     "elapsed": 21104,
     "status": "ok",
     "timestamp": 1619745548525,
     "user": {
      "displayName": "Adithya Kasali",
      "photoUrl": "",
      "userId": "03144812107510767698"
     },
     "user_tz": 240
    },
    "id": "6C8SCv6uvymi",
    "outputId": "b50e2759-668b-4527-f29f-54aee4c91d4f"
   },
   "outputs": [
    {
     "name": "stdout",
     "output_type": "stream",
     "text": [
      "Fair Price (mean) for 100000 simulations: 1008.3029412938826\n"
     ]
    }
   ],
   "source": [
    "print(\"Fair Price (mean) for\",N,\"simulations:\", np.mean(payoff))"
   ]
  },
  {
   "cell_type": "code",
   "execution_count": 28,
   "metadata": {
    "colab": {
     "base_uri": "https://localhost:8080/"
    },
    "executionInfo": {
     "elapsed": 20616,
     "status": "ok",
     "timestamp": 1619745548525,
     "user": {
      "displayName": "Adithya Kasali",
      "photoUrl": "",
      "userId": "03144812107510767698"
     },
     "user_tz": 240
    },
    "id": "L29su_Xvv2NJ",
    "outputId": "9b1da081-7a6d-45c1-8ff9-6319afdb96c4"
   },
   "outputs": [
    {
     "name": "stdout",
     "output_type": "stream",
     "text": [
      "Standard Error of Estimator for 100000 simulations: 0.000568584774793711\n"
     ]
    }
   ],
   "source": [
    "print(\"Standard Error of Estimator for\",N,\"simulations:\",np.std(payoff)/N)"
   ]
  },
  {
   "cell_type": "code",
   "execution_count": null,
   "metadata": {
    "id": "CNbQksTysVzO"
   },
   "outputs": [],
   "source": [
    "coupon_rates = np.linspace(0, 10, 100, endpoint=True)*250/100"
   ]
  },
  {
   "cell_type": "code",
   "execution_count": null,
   "metadata": {
    "id": "9EO7x5MbskcH"
   },
   "outputs": [],
   "source": [
    "prices = np.array([])\n",
    "for cpr in coupon_rates[1:]:\n",
    "  prices = np.append(prices, np.mean(calculatePayoff(X_sx, X_sp, X_sm, N, cpr)))"
   ]
  },
  {
   "cell_type": "code",
   "execution_count": null,
   "metadata": {
    "id": "dZoRFqYBv7-z"
   },
   "outputs": [],
   "source": [
    "crVp = pd.DataFrame()\n",
    "crVp['coupon_rates'] = coupon_rates[1:]*100/250\n",
    "crVp['fair_price'] = prices"
   ]
  },
  {
   "cell_type": "code",
   "execution_count": null,
   "metadata": {
    "colab": {
     "base_uri": "https://localhost:8080/",
     "height": 313
    },
    "executionInfo": {
     "elapsed": 387,
     "status": "ok",
     "timestamp": 1619735648888,
     "user": {
      "displayName": "Adithya Kasali",
      "photoUrl": "",
      "userId": "03144812107510767698"
     },
     "user_tz": 240
    },
    "id": "PoGyA832vuLV",
    "outputId": "7a1f1147-a620-4bcf-f1b6-e81637714078"
   },
   "outputs": [
    {
     "data": {
      "text/plain": [
       "Text(0.5, 1.0, 'Coupon Rate vs Fair Price')"
      ]
     },
     "execution_count": 54,
     "metadata": {
      "tags": []
     },
     "output_type": "execute_result"
    },
    {
     "data": {
      "image/png": "[encoded data removed]",
      "text/plain": [
       "<Figure size 432x288 with 1 Axes>"
      ]
     },
     "metadata": {
      "needs_background": "light",
      "tags": []
     },
     "output_type": "display_data"
    }
   ],
   "source": [
    "ax = sns.lineplot(data=crVp, x=\"coupon_rates\", y=\"fair_price\")\n",
    "ax.set_title('Coupon Rate vs Fair Price')"
   ]
  },
  {
   "cell_type": "code",
   "execution_count": 27,
   "metadata": {
    "executionInfo": {
     "elapsed": 254,
     "status": "ok",
     "timestamp": 1619741841704,
     "user": {
      "displayName": "Adithya Kasali",
      "photoUrl": "",
      "userId": "03144812107510767698"
     },
     "user_tz": 240
    },
    "id": "Z6CGuwzzpg9X"
   },
   "outputs": [],
   "source": [
    "N = 10**5"
   ]
  },
  {
   "cell_type": "code",
   "execution_count": 28,
   "metadata": {
    "executionInfo": {
     "elapsed": 832,
     "status": "ok",
     "timestamp": 1619741842884,
     "user": {
      "displayName": "Adithya Kasali",
      "photoUrl": "",
      "userId": "03144812107510767698"
     },
     "user_tz": 240
    },
    "id": "gqIvEu-TBuKP"
   },
   "outputs": [],
   "source": [
    "## Anti-thetic variates method \n",
    "X_sx1=np.zeros((int(N/2),int(n)+1))\n",
    "X_sx1[:,0]=sx['Close'][-1]\n",
    "\n",
    "X_sp1=np.zeros((int(N/2),int(n)+1))\n",
    "X_sp1[:,0]=sp['Close'][-1]\n",
    "\n",
    "X_sm1=np.zeros((int(N/2),int(n)+1))\n",
    "X_sm1[:,0]=sm['Close'][-1]\n",
    "\n",
    "X_sx2=np.zeros((int(N/2),int(n)+1))\n",
    "X_sx2[:,0]=sx['Close'][-1]\n",
    "\n",
    "X_sp2=np.zeros((int(N/2),int(n)+1))\n",
    "X_sp2[:,0]=sp['Close'][-1]\n",
    "\n",
    "X_sm2=np.zeros((int(N/2),int(n)+1))\n",
    "X_sm2[:,0]=sm['Close'][-1]"
   ]
  },
  {
   "cell_type": "code",
   "execution_count": 29,
   "metadata": {
    "executionInfo": {
     "elapsed": 14295,
     "status": "ok",
     "timestamp": 1619741858157,
     "user": {
      "displayName": "Adithya Kasali",
      "photoUrl": "",
      "userId": "03144812107510767698"
     },
     "user_tz": 240
    },
    "id": "lpqvws5rpxS-"
   },
   "outputs": [],
   "source": [
    "for i in range(1,n+1):\n",
    "  W1 = np.random.normal(0, 1, (int(N/2),3))\n",
    "  Z1=np.matmul(W1,C)    #W*C;\n",
    "  Z2=-1*Z1\n",
    "  X_sx1[:,i] = X_sx1[:,i-1]*np.exp((mu_sx - d_sx - (sig_sx**2)/2)*dt + sig_sx*np.sqrt(dt)*Z1[:,0])\n",
    "  X_sp1[:,i] = X_sp1[:,i-1]*np.exp((mu_sp - d_sp - (sig_sp**2)/2)*dt + sig_sp*np.sqrt(dt)*Z1[:,1])\n",
    "  X_sm1[:,i] = X_sm1[:,i-1]*np.exp((mu_sm - d_sm - (sig_sm**2)/2)*dt + sig_sm*np.sqrt(dt)*Z1[:,2])\n",
    "\n",
    "  X_sx2[:,i] = X_sx2[:,i-1]*np.exp((mu_sx - d_sx - (sig_sx**2)/2)*dt + sig_sx*np.sqrt(dt)*Z2[:,0])\n",
    "  X_sp2[:,i] = X_sp2[:,i-1]*np.exp((mu_sp - d_sp - (sig_sp**2)/2)*dt + sig_sp*np.sqrt(dt)*Z2[:,1])\n",
    "  X_sm2[:,i] = X_sm2[:,i-1]*np.exp((mu_sm - d_sm - (sig_sm**2)/2)*dt + sig_sm*np.sqrt(dt)*Z2[:,2])\n"
   ]
  },
  {
   "cell_type": "code",
   "execution_count": 30,
   "metadata": {
    "executionInfo": {
     "elapsed": 1589,
     "status": "ok",
     "timestamp": 1619741861415,
     "user": {
      "displayName": "Adithya Kasali",
      "photoUrl": "",
      "userId": "03144812107510767698"
     },
     "user_tz": 240
    },
    "id": "Qes1uslYCdqZ"
   },
   "outputs": [],
   "source": [
    "payoff1 = calculatePayoff(X_sx1, X_sp1, X_sm1 , int(N/2), 6.25)\n",
    "payoff2 = calculatePayoff(X_sx2, X_sp2, X_sm2, int(N/2),  6.25)\n",
    "\n",
    "total_payoff = np.append(payoff1, payoff2)"
   ]
  },
  {
   "cell_type": "code",
   "execution_count": 31,
   "metadata": {
    "colab": {
     "base_uri": "https://localhost:8080/"
    },
    "executionInfo": {
     "elapsed": 271,
     "status": "ok",
     "timestamp": 1619741862716,
     "user": {
      "displayName": "Adithya Kasali",
      "photoUrl": "",
      "userId": "03144812107510767698"
     },
     "user_tz": 240
    },
    "id": "3NGAx927D034",
    "outputId": "3abe8da5-de20-42c0-d791-f4381d0ebb5b"
   },
   "outputs": [
    {
     "name": "stdout",
     "output_type": "stream",
     "text": [
      "Fair Price (mean) for 100000 simulations: 1007.5883071066914\n"
     ]
    }
   ],
   "source": [
    "print(\"Fair Price (mean) for\",N,\"simulations:\", np.mean(total_payoff))"
   ]
  },
  {
   "cell_type": "code",
   "execution_count": 32,
   "metadata": {
    "colab": {
     "base_uri": "https://localhost:8080/"
    },
    "executionInfo": {
     "elapsed": 245,
     "status": "ok",
     "timestamp": 1619741864033,
     "user": {
      "displayName": "Adithya Kasali",
      "photoUrl": "",
      "userId": "03144812107510767698"
     },
     "user_tz": 240
    },
    "id": "3ZEtMVR1D7D0",
    "outputId": "abe0b90c-5c8b-47d8-dfce-5349fc3f865f"
   },
   "outputs": [
    {
     "name": "stdout",
     "output_type": "stream",
     "text": [
      "Standard Error of Estimator for 100000 simulations: 0.0005874778721003061\n"
     ]
    }
   ],
   "source": [
    "print(\"Standard Error of Estimator for\",N,\"simulations:\",np.std(total_payoff)/N)"
   ]
  },
  {
   "cell_type": "code",
   "execution_count": null,
   "metadata": {
    "colab": {
     "base_uri": "https://localhost:8080/"
    },
    "executionInfo": {
     "elapsed": 724,
     "status": "ok",
     "timestamp": 1619639813759,
     "user": {
      "displayName": "Adithya Kasali",
      "photoUrl": "",
      "userId": "03144812107510767698"
     },
     "user_tz": 240
    },
    "id": "zZq7GYJBDh47",
    "outputId": "aa138000-24d4-4d3a-b870-6f2d13a159a7"
   },
   "outputs": [
    {
     "data": {
      "text/plain": [
       "numpy.ndarray"
      ]
     },
     "execution_count": 99,
     "metadata": {
      "tags": []
     },
     "output_type": "execute_result"
    }
   ],
   "source": [
    "type(payoff1)"
   ]
  },
  {
   "cell_type": "code",
   "execution_count": null,
   "metadata": {
    "id": "Vsl4zLAIqPNY"
   },
   "outputs": [],
   "source": [
    "# Apply the standard Monte-Carlo method to price \n",
    "# plot the contract as the function of coupon rate\n",
    "# Report mean and variance. Make use of some variance reduction method for which report mean and variance as well. "
   ]
  },
  {
   "cell_type": "code",
   "execution_count": null,
   "metadata": {},
   "outputs": [],
   "source": [
    "## Defing payoff function for ABRC for a single underlying asset\n",
    "def calculatePayoff_single(X_sx, N, coup):\n",
    "  payoff = np.ones(N)*coup*(np.exp(-r*63/252)+np.exp(-r*2*63/252)+np.exp(-r*3*63/252))\n",
    "  for i in range(0, N):\n",
    "    for j in range(0,len(obs)):\n",
    "      if(X_sx[i,obs[j]] > br[j,0]):\n",
    "        if(j != 4):\n",
    "          payoff[i] += np.exp(-r*obs[j]/252)*(coup + denom);\n",
    "        else:\n",
    "          worst = X_sx[i,obs[j]]/init_fix[0]\n",
    "          payoff[i] += np.exp(-r*obs[j]/252)*(coup + denom*worst)\n",
    "        break;\n",
    "      else:\n",
    "        if(j == 4):\n",
    "          payoff[i] += np.exp(-r*obs[j]/252)*(coup + denom)\n",
    "        else:\n",
    "          payoff[i] += np.exp(-r*obs[j]/252)*(coup)\n",
    "\n",
    "  return payoff"
   ]
  },
  {
   "cell_type": "code",
   "execution_count": null,
   "metadata": {},
   "outputs": [],
   "source": [
    "## apply control variate method\n",
    "s_payoff = calculatePayoff_single(X_sx, N, coup)\n",
    "b=np.corrcoef(payoff,s_payoff)[0,1]\n",
    "payoff_cv = payoff - b*(s_payoff - np.mean(s_payoff))\n",
    "print(\"(Control Variates) Fair Price (mean) for\",N,\"simulations:\", np.mean(payoff_cv))\n",
    "print(\"(Control Variates) Standard Error of Estimator for\",N,\"simulations:\",np.std(payoff_cv/N))"
   ]
  }
 ],
 "metadata": {
  "accelerator": "GPU",
  "colab": {
   "authorship_tag": "ABX9TyPlrRuOi67OxbJIXBLbNGY3",
   "collapsed_sections": [],
   "name": "MC_project.ipynb",
   "provenance": []
  },
  "kernelspec": {
   "display_name": "Python 3",
   "language": "python",
   "name": "python3"
  },
  "language_info": {
   "codemirror_mode": {
    "name": "ipython",
    "version": 3
   },
   "file_extension": ".py",
   "mimetype": "text/x-python",
   "name": "python",
   "nbconvert_exporter": "python",
   "pygments_lexer": "ipython3",
   "version": "3.7.3"
  }
 },
 "nbformat": 4,
 "nbformat_minor": 4
}
